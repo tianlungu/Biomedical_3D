{
 "cells": [
  {
   "cell_type": "code",
   "execution_count": 1,
   "metadata": {},
   "outputs": [],
   "source": [
    "import pydicom as dicom\n",
    "from PIL import Image\n",
    "import cv2\n",
    "import matplotlib.pyplot as plt\n",
    "import os\n",
    "import pandas as pd\n",
    "import numpy as np\n",
    "import csv"
   ]
  },
  {
   "cell_type": "code",
   "execution_count": 2,
   "metadata": {},
   "outputs": [],
   "source": [
    "folder_path1 = \"/GTL/jupyter/ReadDICOM/Data/before/\"\n",
    "png_folder_path1 = \"/GTL/jupyter/ReadDICOM/Data/before_picture/\"\n",
    "resize_folder_path1=\"/GTL/jupyter/ReadDICOM/Data/before_resize_picture/\"\n",
    "folder_path2 = \"/GTL/jupyter/ReadDICOM/Data/after/\"\n",
    "png_folder_path2 = \"/GTL/jupyter/ReadDICOM/Data/after_picture/\"\n",
    "resize_folder_path2=\"/GTL/jupyter/ReadDICOM/Data/after_resize_picture/\""
   ]
  },
  {
   "cell_type": "code",
   "execution_count": null,
   "metadata": {},
   "outputs": [],
   "source": [
    "def read_dicom(folder_path,png_folder_path):\n",
    "    images_path = os.listdir(folder_path)\n",
    "    for n, image in enumerate(images_path):\n",
    "        if os.path.splitext(image)[-1] == \".dcm\":\n",
    "            ds = dicom.read_file(os.path.join(folder_path, image))\n",
    "            pixel_array_numpy = ds.pixel_array\n",
    "            pixel_array_numpy.astype(np.int16)\n",
    "            image = image.replace('.dcm', '.png')\n",
    "            outputImg = Image.fromarray(pixel_array_numpy)\n",
    "            outputImg.convert('L')\n",
    "            outputImg.save(os.path.join(png_folder_path, image))\n",
    "            if n % 50 == 0:\n",
    "                print('{} image converted'.format(n))"
   ]
  },
  {
   "cell_type": "code",
   "execution_count": null,
   "metadata": {},
   "outputs": [],
   "source": [
    "def read_dicom(folder_path,png_folder_path):\n",
    "    images_path = os.listdir(folder_path)\n",
    "    for n, image in enumerate(images_path):\n",
    "        ds = dicom.read_file(os.path.join(folder_path, image))\n",
    "        pixel_array_numpy = ds.pixel_array/255\n",
    "        # pixel_array_numpy.astype('uint8')\n",
    "        image = image.replace('.dcm', '.png')\n",
    "        cv2.imwrite(os.path.join(png_folder_path, image),pixel_array_numpy)\n",
    "        if n % 50 == 0:\n",
    "            print('{} image converted'.format(n))"
   ]
  },
  {
   "cell_type": "code",
   "execution_count": null,
   "metadata": {},
   "outputs": [],
   "source": [
    "def img_resize(png_folder_path,resize_folder_path):\n",
    "    images_path=os.listdir(png_folder_path)\n",
    "    for n,image in enumerate(images_path):\n",
    "        src = cv2.imread(os.path.join(png_folder_path, image), cv2.IMREAD_UNCHANGED)\n",
    "        width = int(512)\n",
    "        height = int(512)\n",
    "        dsize = (width, height)\n",
    "        output = cv2.resize(src, dsize)\n",
    "        cv2.imwrite(os.path.join(resize_folder_path, image),output) "
   ]
  },
  {
   "cell_type": "code",
   "execution_count": null,
   "metadata": {},
   "outputs": [],
   "source": [
    "scan_dicom=read_dicom(folder_path1,png_folder_path1)\n",
    "img_resize(png_folder_path1,resize_folder_path1)\n",
    "test="
   ]
  }
 ],
 "metadata": {
  "kernelspec": {
   "display_name": "Python 3",
   "language": "python",
   "name": "python3"
  },
  "language_info": {
   "codemirror_mode": {
    "name": "ipython",
    "version": 3
   },
   "file_extension": ".py",
   "mimetype": "text/x-python",
   "name": "python",
   "nbconvert_exporter": "python",
   "pygments_lexer": "ipython3",
   "version": "3.8.5"
  }
 },
 "nbformat": 4,
 "nbformat_minor": 2
}
