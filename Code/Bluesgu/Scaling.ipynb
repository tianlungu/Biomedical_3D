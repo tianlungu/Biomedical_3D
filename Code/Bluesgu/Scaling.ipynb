{
 "cells": [
  {
   "cell_type": "code",
   "execution_count": 23,
   "metadata": {},
   "outputs": [],
   "source": [
    "import pydicom as dicom\n",
    "from PIL import Image\n",
    "import cv2\n",
    "import matplotlib.pyplot as plt\n",
    "import os\n",
    "import pandas as pd\n",
    "import numpy as np\n",
    "import math\n",
    "import sys, time"
   ]
  },
  {
   "cell_type": "code",
   "execution_count": 24,
   "metadata": {},
   "outputs": [],
   "source": [
    "# Interpolation kernel\n",
    "def u(s,a):\n",
    "    if (abs(s) >=0) & (abs(s) <=1):\n",
    "        return (a+2)*(abs(s)**3)-(a+3)*(abs(s)**2)+1\n",
    "    elif (abs(s) > 1) & (abs(s) <= 2):\n",
    "        return a*(abs(s)**3)-(5*a)*(abs(s)**2)+(8*a)*abs(s)-4*a\n",
    "    return 0\n",
    "\n",
    "#Paddnig\n",
    "def padding(img,H,W,C):\n",
    "    zimg = np.zeros((H+4,W+4,C))\n",
    "    zimg[2:H+2,2:W+2,:C] = img\n",
    "    #Pad the first/last two col and row\n",
    "    zimg[2:H+2,0:2,:C]=img[:,0:1,:C]\n",
    "    zimg[H+2:H+4,2:W+2,:]=img[H-1:H,:,:]\n",
    "    zimg[2:H+2,W+2:W+4,:]=img[:,W-1:W,:]\n",
    "    zimg[0:2,2:W+2,:C]=img[0:1,:,:C]\n",
    "    #Pad the missing eight points\n",
    "    zimg[0:2,0:2,:C]=img[0,0,:C]\n",
    "    zimg[H+2:H+4,0:2,:C]=img[H-1,0,:C]\n",
    "    zimg[H+2:H+4,W+2:W+4,:C]=img[H-1,W-1,:C]\n",
    "    zimg[0:2,W+2:W+4,:C]=img[0,W-1,:C]\n",
    "    return zimg\n",
    "\n",
    "# https://github.com/yunabe/codelab/blob/master/misc/terminal_progressbar/progress.py\n",
    "def get_progressbar_str(progress):\n",
    "    END = 170\n",
    "    MAX_LEN = 30\n",
    "    BAR_LEN = int(MAX_LEN * progress)\n",
    "    return ('Progress:[' + '=' * BAR_LEN +\n",
    "            ('>' if BAR_LEN < MAX_LEN else '') +\n",
    "            ' ' * (MAX_LEN - BAR_LEN) +\n",
    "            '] %.1f%%' % (progress * 100.))\n",
    "\n",
    "# Bicubic operation\n",
    "def bicubic_main(img, ratio, a):\n",
    "    #Get image size\n",
    "    H,W,C = img.shape\n",
    "\n",
    "    img = padding(img,H,W,C)\n",
    "    #Create new image\n",
    "    dH = math.floor(H*ratio)\n",
    "    dW = math.floor(W*ratio)\n",
    "    dst = np.zeros((dH, dW, 3))\n",
    "\n",
    "    h = 1/ratio\n",
    "\n",
    "    print('Start bicubic interpolation')\n",
    "    print('It will take a little while...')\n",
    "    inc = 0\n",
    "    for c in range(C):\n",
    "        for j in range(dH):\n",
    "            for i in range(dW):\n",
    "                x, y = i * h + 2 , j * h + 2\n",
    "\n",
    "                x1 = 1 + x - math.floor(x)\n",
    "                x2 = x - math.floor(x)\n",
    "                x3 = math.floor(x) + 1 - x\n",
    "                x4 = math.floor(x) + 2 - x\n",
    "\n",
    "                y1 = 1 + y - math.floor(y)\n",
    "                y2 = y - math.floor(y)\n",
    "                y3 = math.floor(y) + 1 - y\n",
    "                y4 = math.floor(y) + 2 - y\n",
    "\n",
    "                mat_l = np.matrix([[u(x1,a),u(x2,a),u(x3,a),u(x4,a)]])\n",
    "                mat_m = np.matrix([[img[int(y-y1),int(x-x1),c],img[int(y-y2),int(x-x1),c],img[int(y+y3),int(x-x1),c],img[int(y+y4),int(x-x1),c]],\n",
    "                                   [img[int(y-y1),int(x-x2),c],img[int(y-y2),int(x-x2),c],img[int(y+y3),int(x-x2),c],img[int(y+y4),int(x-x2),c]],\n",
    "                                   [img[int(y-y1),int(x+x3),c],img[int(y-y2),int(x+x3),c],img[int(y+y3),int(x+x3),c],img[int(y+y4),int(x+x3),c]],\n",
    "                                   [img[int(y-y1),int(x+x4),c],img[int(y-y2),int(x+x4),c],img[int(y+y3),int(x+x4),c],img[int(y+y4),int(x+x4),c]]])\n",
    "                mat_r = np.matrix([[u(y1,a)],[u(y2,a)],[u(y3,a)],[u(y4,a)]])\n",
    "                dst[j, i, c] = np.dot(np.dot(mat_l, mat_m),mat_r)\n",
    "\n",
    "                # Print progress\n",
    "                inc = inc + 1\n",
    "                sys.stderr.write('\\r\\033[K' + get_progressbar_str(inc/(C*dH*dW)))\n",
    "                sys.stderr.flush()\n",
    "    sys.stderr.write('\\n')\n",
    "    sys.stderr.flush()\n",
    "    return dst"
   ]
  },
  {
   "cell_type": "code",
   "execution_count": 25,
   "metadata": {},
   "outputs": [
    {
     "name": "stderr",
     "output_type": "stream",
     "text": [
      "\u001b[KProgress:[>                              ] 0.0%"
     ]
    },
    {
     "name": "stdout",
     "output_type": "stream",
     "text": [
      "Start bicubic interpolation\n",
      "It will take a little while...\n"
     ]
    },
    {
     "name": "stderr",
     "output_type": "stream",
     "text": [
      "\u001b[KProgress:[>                              ] 0.4%IOPub message rate exceeded.\n",
      "The notebook server will temporarily stop sending output\n",
      "to the client in order to avoid crashing it.\n",
      "To change this limit, set the config variable\n",
      "`--NotebookApp.iopub_msg_rate_limit`.\n",
      "\n",
      "Current values:\n",
      "NotebookApp.iopub_msg_rate_limit=1000.0 (msgs/sec)\n",
      "NotebookApp.rate_limit_window=3.0 (secs)\n",
      "\n"
     ]
    }
   ],
   "source": [
    "# Read image\n",
    "img = cv2.imread(r'C:\\file_zeke\\Biomed\\before2_png\\1.2.840.113619.2.353.2807.8104374.14566.1567150264.362.png')\n",
    "\n",
    "# Scale factor\n",
    "ratio = 2\n",
    "# Coefficient\n",
    "a = -(1/ratio)\n",
    "\n",
    "dst = bicubic_main(img, ratio, a)\n",
    "print('Completed!')\n",
    "cv2.imwrite('new.png', dst)"
   ]
  },
  {
   "cell_type": "code",
   "execution_count": null,
   "metadata": {},
   "outputs": [],
   "source": []
  },
  {
   "cell_type": "code",
   "execution_count": null,
   "metadata": {},
   "outputs": [],
   "source": []
  }
 ],
 "metadata": {
  "kernelspec": {
   "display_name": "Python 3",
   "language": "python",
   "name": "python3"
  },
  "language_info": {
   "codemirror_mode": {
    "name": "ipython",
    "version": 3
   },
   "file_extension": ".py",
   "mimetype": "text/x-python",
   "name": "python",
   "nbconvert_exporter": "python",
   "pygments_lexer": "ipython3",
   "version": "3.8.5"
  }
 },
 "nbformat": 4,
 "nbformat_minor": 4
}
